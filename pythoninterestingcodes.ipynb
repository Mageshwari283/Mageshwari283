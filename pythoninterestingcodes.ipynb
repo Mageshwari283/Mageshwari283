{
  "nbformat": 4,
  "nbformat_minor": 0,
  "metadata": {
    "colab": {
      "provenance": [],
      "authorship_tag": "ABX9TyNZnNSkl+xg8ahAXIlDYXzF",
      "include_colab_link": true
    },
    "kernelspec": {
      "name": "python3",
      "display_name": "Python 3"
    },
    "language_info": {
      "name": "python"
    }
  },
  "cells": [
    {
      "cell_type": "markdown",
      "metadata": {
        "id": "view-in-github",
        "colab_type": "text"
      },
      "source": [
        "<a href=\"https://colab.research.google.com/github/Mageshwari283/Mageshwari283/blob/main/pythoninterestingcodes.ipynb\" target=\"_parent\"><img src=\"https://colab.research.google.com/assets/colab-badge.svg\" alt=\"Open In Colab\"/></a>"
      ]
    },
    {
      "cell_type": "code",
      "source": [
        "a = \"Hello World!\"\n",
        "print(a[::-1])\n"
      ],
      "metadata": {
        "colab": {
          "base_uri": "https://localhost:8080/"
        },
        "id": "-EtbKqUMi05b",
        "outputId": "203c3ce4-2ea6-4503-e4f4-f73ad74986b5"
      },
      "execution_count": 16,
      "outputs": [
        {
          "output_type": "stream",
          "name": "stdout",
          "text": [
            "!dlroW olleH\n"
          ]
        }
      ]
    },
    {
      "cell_type": "markdown",
      "source": [
        "### #2 Inplace Swap / Simultaneous Assignment"
      ],
      "metadata": {
        "id": "NxXROfv9jfof"
      }
    },
    {
      "cell_type": "code",
      "source": [
        "a = 10\n",
        "b = 5\n",
        "print(f\"First: {a, b}\")\n",
        "a, b = b, a + 2\n",
        "print(f\"Second: {a, b}\")"
      ],
      "metadata": {
        "colab": {
          "base_uri": "https://localhost:8080/"
        },
        "id": "_oRR0mU8jrlQ",
        "outputId": "b19905ad-3f1f-4036-a6c3-1b8189869e68"
      },
      "execution_count": 17,
      "outputs": [
        {
          "output_type": "stream",
          "name": "stdout",
          "text": [
            "First: (10, 5)\n",
            "Second: (5, 12)\n"
          ]
        }
      ]
    },
    {
      "cell_type": "code",
      "source": [
        "import sys\n",
        "\n",
        "a = [1, 2, 3, 4, 5]\n",
        "b = (1, 2, 3, 4, 5)\n",
        "\n",
        "print(f\"List size: {sys.getsizeof(a)} bytes\")\n",
        "print(f\"Tuple size: {sys.getsizeof(b)} bytes\")\n"
      ],
      "metadata": {
        "colab": {
          "base_uri": "https://localhost:8080/"
        },
        "id": "_Hnf1mS8j_xn",
        "outputId": "13964d88-0bb1-4b7e-b457-a8c008d6d00e"
      },
      "execution_count": 18,
      "outputs": [
        {
          "output_type": "stream",
          "name": "stdout",
          "text": [
            "List size: 104 bytes\n",
            "Tuple size: 80 bytes\n"
          ]
        }
      ]
    },
    {
      "cell_type": "code",
      "source": [
        "a = [x * 2 for x in range(10)]\n",
        "b = (x * 2 for x in range(10))\n",
        "\n",
        "print(a)\n",
        "print(b)\n"
      ],
      "metadata": {
        "colab": {
          "base_uri": "https://localhost:8080/"
        },
        "id": "9ZntRxWRlkBY",
        "outputId": "63180e4d-3e36-4073-8109-78651bbfc1ed"
      },
      "execution_count": 19,
      "outputs": [
        {
          "output_type": "stream",
          "name": "stdout",
          "text": [
            "[0, 2, 4, 6, 8, 10, 12, 14, 16, 18]\n",
            "<generator object <genexpr> at 0x7d757ee57760>\n"
          ]
        }
      ]
    }
  ]
}